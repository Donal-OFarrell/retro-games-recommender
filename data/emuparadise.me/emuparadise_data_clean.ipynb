{
 "cells": [
  {
   "cell_type": "code",
   "execution_count": 1,
   "metadata": {},
   "outputs": [],
   "source": [
    "import pandas as pd\n",
    "import csv"
   ]
  },
  {
   "cell_type": "code",
   "execution_count": 2,
   "metadata": {},
   "outputs": [],
   "source": [
    "df = pd.read_csv('game_dataset_emuparadise.csv')"
   ]
  },
  {
   "cell_type": "code",
   "execution_count": 58,
   "metadata": {},
   "outputs": [],
   "source": [
    "# remove anything in brackets title column\n",
    "df['title'] = df['title'].str.replace(r\"\\s+\\(.*\\)\",\"\")"
   ]
  },
  {
   "cell_type": "code",
   "execution_count": 59,
   "metadata": {},
   "outputs": [],
   "source": [
    "# remove anything with square brackets in title columns\n",
    "df['title'] = df['title'].str.replace(r'\\[.*?\\]','')"
   ]
  },
  {
   "cell_type": "code",
   "execution_count": 60,
   "metadata": {},
   "outputs": [],
   "source": [
    "# delete any white space before or after title.\n",
    "df['title'] = df['title'].str.strip()"
   ]
  },
  {
   "cell_type": "code",
   "execution_count": 61,
   "metadata": {},
   "outputs": [],
   "source": [
    "# remove , in title column\n",
    "df['title'] = df['title'].apply(lambda x: x.replace(',','')) "
   ]
  },
  {
   "cell_type": "code",
   "execution_count": 62,
   "metadata": {},
   "outputs": [],
   "source": [
    "# multiply average rating by rating count to get average if multiple versions of game or on diff consoles.\n",
    "df['rating X count'] = df['average_rating'] * df['rating_count']"
   ]
  },
  {
   "cell_type": "code",
   "execution_count": 63,
   "metadata": {},
   "outputs": [],
   "source": [
    "# remove []'\" in genres column and replace , with | \n",
    "df['genres'] = df['genres'].apply(lambda x: x.replace('[','').replace(']','').replace('\\'','').replace(',','|').replace('\\\"','')) "
   ]
  },
  {
   "cell_type": "code",
   "execution_count": 64,
   "metadata": {},
   "outputs": [],
   "source": [
    "# group by title meaning games with the same name from diff consoles merged together.\n",
    "# console and genres joined as a set. \n",
    "df_grouped = df.groupby([df['title'].str.title()]).agg({\n",
    "    'rating X count': 'sum',\n",
    "    'rating_count': 'sum',\n",
    "    'console': lambda x: ','.join(set(x)),\n",
    "    'genres': lambda x: '|'.join(set(x)),\n",
    "})"
   ]
  },
  {
   "cell_type": "code",
   "execution_count": 65,
   "metadata": {},
   "outputs": [],
   "source": [
    "# when consoles are joined replace , with |\n",
    "df_grouped['console'] = df_grouped['console'].apply(lambda x: x.replace(',','|')) "
   ]
  },
  {
   "cell_type": "code",
   "execution_count": 66,
   "metadata": {},
   "outputs": [],
   "source": [
    "# re calculate average rating by dividing rating * count by rating_count. \n",
    "# This will ensure game ratings for game on diff consoles/multiple versions is factored in.\n",
    "df_grouped['average_rating'] = df_grouped['rating X count'] / df_grouped['rating_count'] "
   ]
  },
  {
   "cell_type": "code",
   "execution_count": 67,
   "metadata": {},
   "outputs": [],
   "source": [
    "# drop rating * count as no longer needed.\n",
    "df_grouped.drop([\"rating X count\"],axis=1,inplace=True)"
   ]
  },
  {
   "cell_type": "code",
   "execution_count": 68,
   "metadata": {},
   "outputs": [],
   "source": [
    "# create new df with games that have genres as wont be able to make recommendations for ones that do not.\n",
    "df_genre = df_grouped[df_grouped['genres'] != \"\"]"
   ]
  },
  {
   "cell_type": "code",
   "execution_count": 69,
   "metadata": {},
   "outputs": [],
   "source": [
    "# save this new df to csv\n",
    "df_genre.reset_index().to_csv('dataset_emuparadise.csv', index=False)"
   ]
  },
  {
   "cell_type": "code",
   "execution_count": 70,
   "metadata": {},
   "outputs": [],
   "source": [
    "# save this new df to txt file and include \"\" around every cell and also an index for an id.\n",
    "df_genre.reset_index().to_csv('dataset_emuparadise.txt', quotechar='\"',\n",
    "                      header=None, quoting=csv.QUOTE_ALL)"
   ]
  }
 ],
 "metadata": {
  "kernelspec": {
   "display_name": "Python 3",
   "language": "python",
   "name": "python3"
  },
  "language_info": {
   "codemirror_mode": {
    "name": "ipython",
    "version": 3
   },
   "file_extension": ".py",
   "mimetype": "text/x-python",
   "name": "python",
   "nbconvert_exporter": "python",
   "pygments_lexer": "ipython3",
   "version": "3.7.6"
  }
 },
 "nbformat": 4,
 "nbformat_minor": 2
}
