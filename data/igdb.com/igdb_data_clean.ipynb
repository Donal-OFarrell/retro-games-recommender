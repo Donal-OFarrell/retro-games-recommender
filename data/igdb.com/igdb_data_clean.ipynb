{
 "cells": [
  {
   "cell_type": "code",
   "execution_count": 1,
   "metadata": {},
   "outputs": [],
   "source": [
    "import pandas as pd\n",
    "import numpy as np"
   ]
  },
  {
   "cell_type": "code",
   "execution_count": 2,
   "metadata": {},
   "outputs": [],
   "source": [
    "df = pd.read_csv('game_dataset_igdb.csv')"
   ]
  },
  {
   "cell_type": "code",
   "execution_count": 3,
   "metadata": {},
   "outputs": [],
   "source": [
    "# drop duplicate row. As calling api for a number of consoles if game is on both it will appear multiple times in dataset\n",
    "df = df.drop_duplicates()"
   ]
  },
  {
   "cell_type": "code",
   "execution_count": 4,
   "metadata": {},
   "outputs": [],
   "source": [
    "# in platforms column remove []' and replace , with |\n",
    "df['platforms'] = df['platforms'].apply(lambda x: x.replace('[','').replace(']','').replace('\\'','').replace(',','|')) "
   ]
  },
  {
   "cell_type": "code",
   "execution_count": 5,
   "metadata": {},
   "outputs": [],
   "source": [
    "# in comparisons column remove []' and replace , with |\n",
    "df['comparisons'] = df['comparisons'].apply(lambda x: x.replace('[','').replace(']','').replace('\\'','').replace(',','|')) "
   ]
  },
  {
   "cell_type": "code",
   "execution_count": 6,
   "metadata": {},
   "outputs": [],
   "source": [
    "# create new df with games that have genres as wont be able to make recommendations for ones that do not.\n",
    "# also remove games without an image\n",
    "df_genre = df[(df['comparisons'] != \"\") & (df['cover_id'] != 0)].copy()"
   ]
  },
  {
   "cell_type": "code",
   "execution_count": 7,
   "metadata": {},
   "outputs": [],
   "source": [
    "# if summary is blank is then put in text, summary not available.\n",
    "df_genre['summary'] = df_genre['summary'].replace(np.nan, 'Sorry, no summary available for this game.', regex=True)"
   ]
  },
  {
   "cell_type": "code",
   "execution_count": 8,
   "metadata": {},
   "outputs": [],
   "source": [
    "# Save cleaned data frame to a new csv file.\n",
    "df_genre.to_csv('dataset_igdb.csv', index=False)"
   ]
  },
  {
   "cell_type": "code",
   "execution_count": 9,
   "metadata": {},
   "outputs": [],
   "source": [
    "# Save cleaned data frame to a new txt file.\n",
    "df_genre.to_csv('dataset_igdb.txt',index=False,\n",
    "                      header=None)"
   ]
  }
 ],
 "metadata": {
  "kernelspec": {
   "display_name": "Python 3",
   "language": "python",
   "name": "python3"
  },
  "language_info": {
   "codemirror_mode": {
    "name": "ipython",
    "version": 3
   },
   "file_extension": ".py",
   "mimetype": "text/x-python",
   "name": "python",
   "nbconvert_exporter": "python",
   "pygments_lexer": "ipython3",
   "version": "3.7.6"
  }
 },
 "nbformat": 4,
 "nbformat_minor": 2
}
